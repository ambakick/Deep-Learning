{
  "cells": [
    {
      "metadata": {
        "trusted": true
      },
      "cell_type": "code",
      "source": "#this implementation of PCA doesnot use the standard scalers provided by the sklearn library\nimport numpy as np\nfrom numpy import mean",
      "execution_count": 3,
      "outputs": []
    },
    {
      "metadata": {
        "trusted": true
      },
      "cell_type": "code",
      "source": "#mean centering the given matrix\nX = np.array([[7,4,3],[4,1,8],[6,3,5],[8,6,1],[8,5,7],[7,2,9],[5,3,3],[9,5,8],[7,4,5],[8,2,2]])\n\ncol_mean = mean(X,axis=0)\nx_std = X-col_mean\ncov = x_std.T.dot(x_std)\nprint(cov)",
      "execution_count": 19,
      "outputs": [
        {
          "output_type": "stream",
          "text": "[[ 20.9  14.5  -3.9]\n [ 14.5  22.5 -11.5]\n [ -3.9 -11.5  70.9]]\n",
          "name": "stdout"
        }
      ]
    },
    {
      "metadata": {
        "trusted": true
      },
      "cell_type": "code",
      "source": "#finding eigen values and vectors for the covariance matrix\neig_val, eig_vect = np.linalg.eig(cov)\nprint(eig_val)\nprint(eig_vect)\neig_var = np.var(eig_vect, axis=0)\nprint(eig_var)\neig_vect = eig_vect/eig_var\nprint(eig_vect)",
      "execution_count": 31,
      "outputs": [
        {
          "output_type": "stream",
          "text": "[ 6.74935338 33.0851634  74.46548322]\n[[-0.70172743  0.69903712 -0.1375708 ]\n [ 0.70745703  0.66088917 -0.25045969]\n [ 0.08416157  0.27307986  0.95830278]]\n[0.33243551 0.03703232 0.29719883]\n[[-2.11086785 18.87640424 -0.46289145]\n [ 2.12810308 17.84627853 -0.84273441]\n [ 0.2531666   7.37409453  3.22445001]]\n",
          "name": "stdout"
        }
      ]
    },
    {
      "metadata": {
        "trusted": true
      },
      "cell_type": "code",
      "source": "#forming the eigen value and eigen vector pair\neig_pairs = [(eig_val[i],eig_vect[:,i])for i in range(len(eig_val))]\n\neig_pairs.sort(reverse = True)\nprint(eig_pairs)\nprint()\n#to throw out a single feature which is the one with eigen value = 6\narr = []\nfor i in range(len(eig_pairs)-1):\n    arr.append(eig_pairs[i][1])\n    \nx = np.asarray(arr).T\nprint(x)\nprint(\"Principal components\")\nprint(cov.dot(x))",
      "execution_count": 44,
      "outputs": [
        {
          "output_type": "stream",
          "text": "[(74.46548322367073, array([-0.46289145, -0.84273441,  3.22445001])), (33.085163401176004, array([18.87640424, 17.84627853,  7.37409453])), (6.74935337515323, array([-2.11086785,  2.12810308,  0.2531666 ]))]\n\n[[-0.46289145 18.87640424]\n [-0.84273441 17.84627853]\n [ 3.22445001  7.37409453]]\nPrincipal components\n[[-34.46943526 624.52891866]\n [-62.75462535 590.44704139]\n [240.1102278  243.97312242]]\n",
          "name": "stdout"
        }
      ]
    },
    {
      "metadata": {
        "trusted": true
      },
      "cell_type": "code",
      "source": "from sklearn.decomposition import PCA\nimport numpy as np\n\nX = np.array([[7,4,3],[4,1,8],[6,3,5],[8,6,1],[8,5,7],[7,2,9],[5,3,3],[9,5,8],[7,4,5],[8,2,2]])\npca = PCA(2)\npca = pca.fit(X)\nprint(pca.components_)\nprint(pca.explained_variance_)",
      "execution_count": 48,
      "outputs": [
        {
          "output_type": "stream",
          "text": "[[ 0.1375708   0.25045969 -0.95830278]\n [ 0.69903712  0.66088917  0.27307986]]\n[8.27394258 3.67612927]\n",
          "name": "stdout"
        }
      ]
    }
  ],
  "metadata": {
    "kernelspec": {
      "name": "python36",
      "display_name": "Python 3.6",
      "language": "python"
    },
    "language_info": {
      "mimetype": "text/x-python",
      "nbconvert_exporter": "python",
      "name": "python",
      "pygments_lexer": "ipython3",
      "version": "3.6.6",
      "file_extension": ".py",
      "codemirror_mode": {
        "version": 3,
        "name": "ipython"
      }
    }
  },
  "nbformat": 4,
  "nbformat_minor": 2
}