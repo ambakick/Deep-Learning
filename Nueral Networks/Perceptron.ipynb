{
  "cells": [
    {
      "metadata": {
        "trusted": true
      },
      "cell_type": "code",
      "source": "#implementation of perceptron\nimport numpy as np",
      "execution_count": 2,
      "outputs": []
    },
    {
      "metadata": {
        "trusted": true
      },
      "cell_type": "code",
      "source": "input_1 = np.array([[0,0],[0,1],[1,0],[1,1]])\nprint(input_1)",
      "execution_count": 3,
      "outputs": [
        {
          "output_type": "stream",
          "text": "[[0 0]\n [0 1]\n [1 0]\n [1 1]]\n",
          "name": "stdout"
        }
      ]
    },
    {
      "metadata": {
        "trusted": true
      },
      "cell_type": "code",
      "source": "#for and\nweights_and = {'node_0': np.array([[20,20]])}\nbias = -30\nfor i in range(len(input_1)):\n    node_0_val = (input_1[i]*weights_and['node_0']).sum() + bias\n    if(node_0_val<0):\n        print('0')\n    else:\n        print('1')",
      "execution_count": 15,
      "outputs": [
        {
          "output_type": "stream",
          "text": "0\n0\n0\n1\n",
          "name": "stdout"
        }
      ]
    },
    {
      "metadata": {
        "trusted": true
      },
      "cell_type": "code",
      "source": "#for nand\nweights_nand = {'node_0': np.array([[-20,-20]])}\nbias = 30\nfor i in range(len(input_1)):\n    node_0_val = (input_1[i]*weights_nand['node_0']).sum() + bias\n    if(node_0_val<0):\n        print('0')\n    else:\n        print('1')",
      "execution_count": 19,
      "outputs": [
        {
          "output_type": "stream",
          "text": "1\n1\n1\n0\n",
          "name": "stdout"
        }
      ]
    },
    {
      "metadata": {
        "trusted": true
      },
      "cell_type": "code",
      "source": "#for or\nweights_or = {'node_0': np.array([[20,20]])}\nbias = -10\nfor i in range(len(input_1)):\n    node_0_val = (input_1[i]*weights_or['node_0']).sum() + bias\n    if(node_0_val<0):\n        print('0')\n    else:\n        print('1')",
      "execution_count": 20,
      "outputs": [
        {
          "output_type": "stream",
          "text": "0\n1\n1\n1\n",
          "name": "stdout"
        }
      ]
    },
    {
      "metadata": {
        "trusted": true
      },
      "cell_type": "code",
      "source": "#for xor\nweights_xor = {'node_0': np.array([[-20,-20]]), 'node_1': np.array([[20,20]]), 'output':np.array([20,20])}\n'''\nnode_0 nand\nnode_1 or\noutput and\n'''\nbias_0 = 30\nbias_1 = -10\nbias_2 = -30\nfor i in range(len(input_1)):\n    node_0_val = (input_1[i]*weights_xor['node_0']).sum()+bias_0\n    if node_0_val<0:\n        node_0_val = 0\n    else:\n        node_0_val = 1\n    node_1_val = (input_1[i]*weights_xor['node_1']).sum()+bias_1\n    if node_1_val<0:\n        node_1_val = 0\n    else:\n        node_1_val = 1\n    print(node_0_val, node_1_val)\n    node_2_val = node_0_val*weights_xor['output'][0]+node_1_val*weights_xor['output'][1]+bias_2\n\n    if(node_2_val<0):\n        print('0')\n    else:\n        print('1')",
      "execution_count": 24,
      "outputs": [
        {
          "output_type": "stream",
          "text": "1 0\n0\n1 1\n1\n1 1\n1\n0 1\n0\n",
          "name": "stdout"
        }
      ]
    }
  ],
  "metadata": {
    "kernelspec": {
      "name": "python36",
      "display_name": "Python 3.6",
      "language": "python"
    },
    "language_info": {
      "mimetype": "text/x-python",
      "nbconvert_exporter": "python",
      "name": "python",
      "pygments_lexer": "ipython3",
      "version": "3.6.6",
      "file_extension": ".py",
      "codemirror_mode": {
        "version": 3,
        "name": "ipython"
      }
    }
  },
  "nbformat": 4,
  "nbformat_minor": 1
}