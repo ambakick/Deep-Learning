{
 "cells": [
  {
   "cell_type": "code",
   "execution_count": 3,
   "metadata": {},
   "outputs": [],
   "source": [
    "#this implementation of PCA doesnot use the standard scalers provided by the sklearn library\n",
    "import numpy as np\n",
    "from numpy import mean"
   ]
  },
  {
   "cell_type": "code",
   "execution_count": 19,
   "metadata": {},
   "outputs": [
    {
     "name": "stdout",
     "output_type": "stream",
     "text": [
      "[[ 20.9  14.5  -3.9]\n",
      " [ 14.5  22.5 -11.5]\n",
      " [ -3.9 -11.5  70.9]]\n"
     ]
    }
   ],
   "source": [
    "#mean centering the given matrix\n",
    "X = np.array([[7,4,3],[4,1,8],[6,3,5],[8,6,1],[8,5,7],[7,2,9],[5,3,3],[9,5,8],[7,4,5],[8,2,2]])\n",
    "\n",
    "col_mean = mean(X,axis=0)\n",
    "x_std = X-col_mean\n",
    "cov = x_std.T.dot(x_std)\n",
    "print(cov)"
   ]
  },
  {
   "cell_type": "code",
   "execution_count": 31,
   "metadata": {},
   "outputs": [
    {
     "name": "stdout",
     "output_type": "stream",
     "text": [
      "[ 6.74935338 33.0851634  74.46548322]\n",
      "[[-0.70172743  0.69903712 -0.1375708 ]\n",
      " [ 0.70745703  0.66088917 -0.25045969]\n",
      " [ 0.08416157  0.27307986  0.95830278]]\n",
      "[0.33243551 0.03703232 0.29719883]\n",
      "[[-2.11086785 18.87640424 -0.46289145]\n",
      " [ 2.12810308 17.84627853 -0.84273441]\n",
      " [ 0.2531666   7.37409453  3.22445001]]\n"
     ]
    }
   ],
   "source": [
    "#finding eigen values and vectors for the covariance matrix\n",
    "eig_val, eig_vect = np.linalg.eig(cov)\n",
    "print(eig_val)\n",
    "print(eig_vect)\n",
    "eig_var = np.var(eig_vect, axis=0)\n",
    "print(eig_var)\n",
    "eig_vect = eig_vect/eig_var\n",
    "print(eig_vect)"
   ]
  },
  {
   "cell_type": "code",
   "execution_count": 44,
   "metadata": {},
   "outputs": [
    {
     "name": "stdout",
     "output_type": "stream",
     "text": [
      "[(74.46548322367073, array([-0.46289145, -0.84273441,  3.22445001])), (33.085163401176004, array([18.87640424, 17.84627853,  7.37409453])), (6.74935337515323, array([-2.11086785,  2.12810308,  0.2531666 ]))]\n",
      "\n",
      "[[-0.46289145 18.87640424]\n",
      " [-0.84273441 17.84627853]\n",
      " [ 3.22445001  7.37409453]]\n",
      "Principal components\n",
      "[[-34.46943526 624.52891866]\n",
      " [-62.75462535 590.44704139]\n",
      " [240.1102278  243.97312242]]\n"
     ]
    }
   ],
   "source": [
    "#forming the eigen value and eigen vector pair\n",
    "eig_pairs = [(eig_val[i],eig_vect[:,i])for i in range(len(eig_val))]\n",
    "\n",
    "eig_pairs.sort(reverse = True)\n",
    "print(eig_pairs)\n",
    "print()\n",
    "#to throw out a single feature which is the one with eigen value = 6\n",
    "arr = []\n",
    "for i in range(len(eig_pairs)-1):\n",
    "    arr.append(eig_pairs[i][1])\n",
    "    \n",
    "x = np.asarray(arr).T\n",
    "print(x)\n",
    "print(\"Principal components\")\n",
    "print(cov.dot(x))"
   ]
  },
  {
   "cell_type": "code",
   "execution_count": 48,
   "metadata": {},
   "outputs": [
    {
     "name": "stdout",
     "output_type": "stream",
     "text": [
      "[[ 0.1375708   0.25045969 -0.95830278]\n",
      " [ 0.69903712  0.66088917  0.27307986]]\n",
      "[8.27394258 3.67612927]\n"
     ]
    }
   ],
   "source": [
    "from sklearn.decomposition import PCA\n",
    "import numpy as np\n",
    "\n",
    "X = np.array([[7,4,3],[4,1,8],[6,3,5],[8,6,1],[8,5,7],[7,2,9],[5,3,3],[9,5,8],[7,4,5],[8,2,2]])\n",
    "pca = PCA(2)\n",
    "pca = pca.fit(X)\n",
    "print(pca.components_)\n",
    "print(pca.explained_variance_)"
   ]
  }
 ],
 "metadata": {
  "kernelspec": {
   "display_name": "Python 3",
   "language": "python",
   "name": "python3"
  },
  "language_info": {
   "codemirror_mode": {
    "name": "ipython",
    "version": 3
   },
   "file_extension": ".py",
   "mimetype": "text/x-python",
   "name": "python",
   "nbconvert_exporter": "python",
   "pygments_lexer": "ipython3",
   "version": "3.6.6"
  }
 },
 "nbformat": 4,
 "nbformat_minor": 2
}
