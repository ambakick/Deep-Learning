{
 "cells": [
  {
   "cell_type": "code",
   "execution_count": 3,
   "metadata": {},
   "outputs": [],
   "source": [
    "import numpy as np\n",
    "input_data = np.array([-1, 2])\n",
    "weights = {'node_0_0': np.array([3, 3]),\n",
    "           'node_0_1': np.array([1, 5]),\n",
    "           'node_1_0': np.array([3, 3]),\n",
    "           'node_1_1': np.array([1, 5]),\n",
    "           'output': np.array([2, -1])}"
   ]
  },
  {
   "cell_type": "code",
   "execution_count": 5,
   "metadata": {},
   "outputs": [
    {
     "name": "stdout",
     "output_type": "stream",
     "text": [
      "[3 9]\n"
     ]
    }
   ],
   "source": [
    "node_0_0_val = (input_data*weights['node_0_0']).sum()\n",
    "node_0_1_val = (input_data*weights['node_0_1']).sum()\n",
    "\n",
    "hidden_layer = np.array([node_0_0_val, node_0_1_val])\n",
    "print(hidden_layer)"
   ]
  },
  {
   "cell_type": "code",
   "execution_count": 8,
   "metadata": {},
   "outputs": [],
   "source": [
    "from numpy import exp, array, random,dot\n",
    "\n",
    "training_inputs = np.array([[0,0,1],[1,1,1],[1,0,1],[0,1,1]])\n",
    "training_output = array([[0,1,1,0]]).T\n",
    "\n",
    "synaptic_weight = 2*random.random((3,1)) - 1"
   ]
  },
  {
   "cell_type": "code",
   "execution_count": 11,
   "metadata": {},
   "outputs": [
    {
     "name": "stdout",
     "output_type": "stream",
     "text": [
      "[[1.80665897e-04]\n",
      " [9.99879534e-01]\n",
      " [9.99919834e-01]\n",
      " [1.20229613e-04]]\n"
     ]
    }
   ],
   "source": [
    "for iteration in range(10000):\n",
    "    output = 1/(1+np.exp(-dot(training_inputs, synaptic_weight)))\n",
    "    synaptic_weight+=dot(training_inputs.T,(training_output - output)*output*(1-output))\n",
    "print(1/(1+np.exp(-dot(training_inputs, synaptic_weight))))"
   ]
  }
 ],
 "metadata": {
  "kernelspec": {
   "display_name": "Python 3",
   "language": "python",
   "name": "python3"
  },
  "language_info": {
   "codemirror_mode": {
    "name": "ipython",
    "version": 3
   },
   "file_extension": ".py",
   "mimetype": "text/x-python",
   "name": "python",
   "nbconvert_exporter": "python",
   "pygments_lexer": "ipython3",
   "version": "3.6.6"
  }
 },
 "nbformat": 4,
 "nbformat_minor": 2
}
